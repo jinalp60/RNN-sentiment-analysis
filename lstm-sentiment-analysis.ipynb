{
 "cells": [
  {
   "cell_type": "markdown",
   "metadata": {},
   "source": [
    "# Recurrent Neural Network - LSTM"
   ]
  },
  {
   "cell_type": "markdown",
   "metadata": {},
   "source": [
    "### Importing the libraries"
   ]
  },
  {
   "cell_type": "code",
   "execution_count": 10,
   "metadata": {},
   "outputs": [],
   "source": [
    "import tensorflow as tf\n",
    "from keras.optimizers import Adam\n",
    "import matplotlib.pyplot as plt"
   ]
  },
  {
   "cell_type": "markdown",
   "metadata": {},
   "source": [
    "## Data Preprocessing"
   ]
  },
  {
   "cell_type": "markdown",
   "metadata": {},
   "source": [
    "### Loading the dataset"
   ]
  },
  {
   "cell_type": "code",
   "execution_count": 11,
   "metadata": {},
   "outputs": [],
   "source": [
    "# Load the IMDB dataset\n",
    "max_features = 10000  # Number of unique words to consider\n",
    "\n",
    "(x_train, y_train), (x_test, y_test) = tf.keras.datasets.imdb.load_data(num_words=max_features)"
   ]
  },
  {
   "cell_type": "markdown",
   "metadata": {},
   "source": [
    "### Preprocessing the training and testing set"
   ]
  },
  {
   "cell_type": "code",
   "execution_count": 12,
   "metadata": {},
   "outputs": [],
   "source": [
    "max_len = 500  # Maximum number of words per review\n",
    "\n",
    "# Pad sequences to ensure consistent input size\n",
    "x_train = tf.keras.preprocessing.sequence.pad_sequences(x_train, maxlen=max_len)\n",
    "x_test = tf.keras.preprocessing.sequence.pad_sequences(x_test, maxlen=max_len)"
   ]
  },
  {
   "cell_type": "markdown",
   "metadata": {},
   "source": [
    "## Building the RNN"
   ]
  },
  {
   "cell_type": "markdown",
   "metadata": {},
   "source": [
    "### Initialising the RNN"
   ]
  },
  {
   "cell_type": "code",
   "execution_count": 13,
   "metadata": {},
   "outputs": [],
   "source": [
    "model = tf.keras.models.Sequential()"
   ]
  },
  {
   "cell_type": "markdown",
   "metadata": {},
   "source": [
    "### Embedding layer"
   ]
  },
  {
   "cell_type": "code",
   "execution_count": 14,
   "metadata": {},
   "outputs": [],
   "source": [
    "# Embedding layer to represent words as vectors\n",
    "model.add(tf.keras.layers.Embedding(input_dim=max_features, output_dim=128, input_length=max_len))"
   ]
  },
  {
   "cell_type": "markdown",
   "metadata": {},
   "source": [
    "### Hidden layer"
   ]
  },
  {
   "cell_type": "code",
   "execution_count": 15,
   "metadata": {},
   "outputs": [],
   "source": [
    "# Recurrent layer (RNN)\n",
    "model.add(tf.keras.layers.LSTM(128, dropout=0.2, recurrent_dropout=0.2, return_sequences=True))\n",
    "model.add(tf.keras.layers.BatchNormalization())\n",
    "model.add(tf.keras.layers.LSTM(128, dropout=0.2))\n",
    "# regularization layer to prevent overfitting\n",
    "model.add(tf.keras.layers.Dropout(0.5))"
   ]
  },
  {
   "cell_type": "markdown",
   "metadata": {},
   "source": [
    "### Output layer"
   ]
  },
  {
   "cell_type": "code",
   "execution_count": 16,
   "metadata": {},
   "outputs": [],
   "source": [
    "# Output layer (binary classification)\n",
    "model.add(tf.keras.layers.Dense(1, activation='sigmoid'))"
   ]
  },
  {
   "cell_type": "code",
   "execution_count": 27,
   "metadata": {},
   "outputs": [
    {
     "name": "stdout",
     "output_type": "stream",
     "text": [
      "Model: \"sequential_1\"\n",
      "_________________________________________________________________\n",
      " Layer (type)                Output Shape              Param #   \n",
      "=================================================================\n",
      " embedding_1 (Embedding)     (None, 500, 128)          1280000   \n",
      "                                                                 \n",
      " lstm_2 (LSTM)               (None, 500, 128)          131584    \n",
      "                                                                 \n",
      " batch_normalization_1 (Batc  (None, 500, 128)         512       \n",
      " hNormalization)                                                 \n",
      "                                                                 \n",
      " lstm_3 (LSTM)               (None, 128)               131584    \n",
      "                                                                 \n",
      " dropout_1 (Dropout)         (None, 128)               0         \n",
      "                                                                 \n",
      " dense_1 (Dense)             (None, 1)                 129       \n",
      "                                                                 \n",
      "=================================================================\n",
      "Total params: 1,543,809\n",
      "Trainable params: 1,543,553\n",
      "Non-trainable params: 256\n",
      "_________________________________________________________________\n",
      "None\n"
     ]
    }
   ],
   "source": [
    "print(model.summary())"
   ]
  },
  {
   "cell_type": "markdown",
   "metadata": {},
   "source": [
    "## Training the RNN"
   ]
  },
  {
   "cell_type": "markdown",
   "metadata": {},
   "source": [
    "### Compiling the RNN"
   ]
  },
  {
   "cell_type": "code",
   "execution_count": 17,
   "metadata": {},
   "outputs": [],
   "source": [
    "# Compile the model\n",
    "model.compile(optimizer=Adam(learning_rate=0.0005), loss='binary_crossentropy', metrics=['accuracy'])"
   ]
  },
  {
   "cell_type": "markdown",
   "metadata": {},
   "source": [
    "### Training the RNN on the Training set and evaluating it on the Test set"
   ]
  },
  {
   "cell_type": "code",
   "execution_count": 18,
   "metadata": {},
   "outputs": [
    {
     "name": "stdout",
     "output_type": "stream",
     "text": [
      "Epoch 1/6\n",
      "782/782 [==============================] - 5396s 7s/step - loss: 0.4450 - accuracy: 0.7888 - val_loss: 0.4846 - val_accuracy: 0.7981\n",
      "Epoch 2/6\n",
      "782/782 [==============================] - 4646s 6s/step - loss: 0.2740 - accuracy: 0.8919 - val_loss: 0.3525 - val_accuracy: 0.8527\n",
      "Epoch 3/6\n",
      "782/782 [==============================] - 43003s 55s/step - loss: 0.1993 - accuracy: 0.9256 - val_loss: 0.3379 - val_accuracy: 0.8756\n",
      "Epoch 4/6\n",
      "782/782 [==============================] - 9876s 13s/step - loss: 0.1549 - accuracy: 0.9436 - val_loss: 0.3978 - val_accuracy: 0.8464\n",
      "Epoch 5/6\n",
      "782/782 [==============================] - 8270s 11s/step - loss: 0.1196 - accuracy: 0.9576 - val_loss: 0.4655 - val_accuracy: 0.8635\n",
      "Epoch 6/6\n",
      "782/782 [==============================] - 4599s 6s/step - loss: 0.0916 - accuracy: 0.9685 - val_loss: 0.4171 - val_accuracy: 0.8569\n"
     ]
    }
   ],
   "source": [
    "history = model.fit(x_train, y_train, epochs=6, batch_size=32, validation_data=(x_test, y_test))\n"
   ]
  },
  {
   "cell_type": "markdown",
   "metadata": {},
   "source": [
    "## Visualize the model performance"
   ]
  },
  {
   "cell_type": "code",
   "execution_count": 23,
   "metadata": {},
   "outputs": [
    {
     "data": {
      "image/png": "[encoded data removed]",
      "text/plain": [
       "<Figure size 432x288 with 1 Axes>"
      ]
     },
     "metadata": {
      "needs_background": "light"
     },
     "output_type": "display_data"
    }
   ],
   "source": [
    "# Plot training & validation accuracy values\n",
    "plt.plot(history.history['accuracy'])\n",
    "plt.plot(history.history['val_accuracy'])\n",
    "plt.title('Model accuracy')\n",
    "plt.xlabel('Epoch')\n",
    "plt.ylabel('Accuracy')\n",
    "plt.legend(['Train', 'Validation'], loc='upper left')\n",
    "plt.show()\n",
    "\n"
   ]
  },
  {
   "cell_type": "code",
   "execution_count": 24,
   "metadata": {},
   "outputs": [
    {
     "data": {
      "image/png": "[encoded data removed]",
      "text/plain": [
       "<Figure size 432x288 with 1 Axes>"
      ]
     },
     "metadata": {
      "needs_background": "light"
     },
     "output_type": "display_data"
    }
   ],
   "source": [
    "# Plot training & validation loss values\n",
    "plt.plot(history.history['loss'])\n",
    "plt.plot(history.history['val_loss'])\n",
    "plt.title('Model loss')\n",
    "plt.xlabel('Epoch')\n",
    "plt.ylabel('Loss')\n",
    "plt.legend(['Train', 'Validation'], loc='upper left')\n",
    "plt.show()\n"
   ]
  },
  {
   "cell_type": "markdown",
   "metadata": {},
   "source": [
    "## Making a single prediction"
   ]
  },
  {
   "cell_type": "code",
   "execution_count": 25,
   "metadata": {},
   "outputs": [
    {
     "name": "stdout",
     "output_type": "stream",
     "text": [
      "1/1 [==============================] - 0s 389ms/step\n",
      "Positive sentiment\n",
      "Original words: ['fantastic', 'movie', ',', 'one', 'of', 'the', 'best', 'of', 'the', 'year!']\n",
      "Tokenized sequence: [777, 20, 2, 31, 7, 4, 118, 7, 4, 2]\n",
      "Padded sequence shape: (1, 500)\n"
     ]
    }
   ],
   "source": [
    "# Test sentence\n",
    "test_text = \"fantastic movie , one of the best of the year!\"\n",
    "\n",
    "# Load word index and adjust with `index_from=3`\n",
    "word_to_id = tf.keras.datasets.imdb.get_word_index()\n",
    "word_to_id = {word: (index + 3) for word, index in word_to_id.items()}  # Shift index by 3\n",
    "\n",
    "# Add reserved tokens\n",
    "word_to_id[\"<PAD>\"] = 0\n",
    "word_to_id[\"<START>\"] = 1\n",
    "word_to_id[\"<OOV>\"] = 2\n",
    "\n",
    "# Tokenize input sentence\n",
    "words = test_text.lower().split()\n",
    "sequence = [word_to_id.get(word, 2) for word in words]  # Default to OOV token if not found\n",
    "batch_sequence = [sequence]  # Add batch dimension\n",
    "\n",
    "# Pad the sequence\n",
    "padded_sequence = tf.keras.preprocessing.sequence.pad_sequences(batch_sequence, maxlen=max_len)\n",
    "\n",
    "# Predict sentiment\n",
    "prediction = model.predict(padded_sequence)\n",
    "\n",
    "# Interpret result\n",
    "if prediction[0] > 0.5:\n",
    "    print(\"Positive sentiment\")\n",
    "else:\n",
    "    print(\"Negative sentiment\")\n",
    "\n",
    "print(\"Original words:\", words)\n",
    "print(\"Tokenized sequence:\", sequence)\n",
    "print(\"Padded sequence shape:\", padded_sequence.shape)"
   ]
  },
  {
   "cell_type": "code",
   "execution_count": 26,
   "metadata": {},
   "outputs": [
    {
     "name": "stdout",
     "output_type": "stream",
     "text": [
      "1/1 [==============================] - 0s 145ms/step\n",
      "Negative sentiment\n",
      "Original words: ['worst', 'movie', ',', \"didn't\", 'like', 'it', 'at', 'all!']\n",
      "Tokenized sequence: [249, 20, 2, 161, 40, 12, 33, 2]\n",
      "Padded sequence shape: (1, 500)\n"
     ]
    }
   ],
   "source": [
    "# Test sentence\n",
    "test_text = \"worst movie , didn't like it at all!\"\n",
    "\n",
    "# Load word index and adjust with `index_from=3`\n",
    "word_to_id = tf.keras.datasets.imdb.get_word_index()\n",
    "word_to_id = {word: (index + 3) for word, index in word_to_id.items()}  # Shift index by 3\n",
    "\n",
    "# Add reserved tokens\n",
    "word_to_id[\"<PAD>\"] = 0\n",
    "word_to_id[\"<START>\"] = 1\n",
    "word_to_id[\"<OOV>\"] = 2\n",
    "\n",
    "# Tokenize input sentence\n",
    "words = test_text.lower().split()\n",
    "sequence = [word_to_id.get(word, 2) for word in words]  # Default to OOV token if not found\n",
    "batch_sequence = [sequence]  # Add batch dimension\n",
    "\n",
    "# Pad the sequence\n",
    "padded_sequence = tf.keras.preprocessing.sequence.pad_sequences(batch_sequence, maxlen=max_len)\n",
    "\n",
    "# Predict sentiment\n",
    "prediction = model.predict(padded_sequence)\n",
    "\n",
    "# Interpret result\n",
    "if prediction[0] > 0.5:\n",
    "    print(\"Positive sentiment\")\n",
    "else:\n",
    "    print(\"Negative sentiment\")\n",
    "\n",
    "print(\"Original words:\", words)\n",
    "print(\"Tokenized sequence:\", sequence)\n",
    "print(\"Padded sequence shape:\", padded_sequence.shape)"
   ]
  }
 ],
 "metadata": {
  "kernelspec": {
   "display_name": "Python 3",
   "language": "python",
   "name": "python3"
  },
  "language_info": {
   "codemirror_mode": {
    "name": "ipython",
    "version": 3
   },
   "file_extension": ".py",
   "mimetype": "text/x-python",
   "name": "python",
   "nbconvert_exporter": "python",
   "pygments_lexer": "ipython3",
   "version": "3.8.7rc1"
  }
 },
 "nbformat": 4,
 "nbformat_minor": 2
}
