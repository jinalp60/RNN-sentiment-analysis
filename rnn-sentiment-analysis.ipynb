{
 "cells": [
  {
   "cell_type": "markdown",
   "metadata": {},
   "source": [
    "# Recurrent Neural Network"
   ]
  },
  {
   "cell_type": "markdown",
   "metadata": {},
   "source": [
    "### Importing the libraries"
   ]
  },
  {
   "cell_type": "code",
   "execution_count": 20,
   "metadata": {},
   "outputs": [],
   "source": [
    "import tensorflow as tf\n",
    "from keras.optimizers import Adam\n",
    "import matplotlib.pyplot as plt"
   ]
  },
  {
   "cell_type": "markdown",
   "metadata": {},
   "source": [
    "## Data Preprocessing"
   ]
  },
  {
   "cell_type": "markdown",
   "metadata": {},
   "source": [
    "### Loading the dataset"
   ]
  },
  {
   "cell_type": "code",
   "execution_count": 21,
   "metadata": {},
   "outputs": [],
   "source": [
    "# Load the IMDB dataset\n",
    "max_features = 10000  # Number of unique words to consider\n",
    "\n",
    "(x_train, y_train), (x_test, y_test) = tf.keras.datasets.imdb.load_data(num_words=max_features)"
   ]
  },
  {
   "cell_type": "markdown",
   "metadata": {},
   "source": [
    "### Preprocessing the training and testing set"
   ]
  },
  {
   "cell_type": "code",
   "execution_count": 22,
   "metadata": {},
   "outputs": [],
   "source": [
    "max_len = 500  # Maximum number of words per review\n",
    "\n",
    "# Pad sequences to ensure consistent input size\n",
    "x_train = tf.keras.preprocessing.sequence.pad_sequences(x_train, maxlen=max_len)\n",
    "x_test = tf.keras.preprocessing.sequence.pad_sequences(x_test, maxlen=max_len)"
   ]
  },
  {
   "cell_type": "markdown",
   "metadata": {},
   "source": [
    "## Building the RNN"
   ]
  },
  {
   "cell_type": "markdown",
   "metadata": {},
   "source": [
    "### Initialising the RNN"
   ]
  },
  {
   "cell_type": "code",
   "execution_count": 23,
   "metadata": {},
   "outputs": [],
   "source": [
    "model = tf.keras.models.Sequential()"
   ]
  },
  {
   "cell_type": "markdown",
   "metadata": {},
   "source": [
    "### Embedding layer"
   ]
  },
  {
   "cell_type": "code",
   "execution_count": 24,
   "metadata": {},
   "outputs": [],
   "source": [
    "# Embedding layer to represent words as vectors\n",
    "model.add(tf.keras.layers.Embedding(input_dim=max_features, output_dim=128, input_length=max_len))"
   ]
  },
  {
   "cell_type": "markdown",
   "metadata": {},
   "source": [
    "### Hidden layers"
   ]
  },
  {
   "cell_type": "code",
   "execution_count": 25,
   "metadata": {},
   "outputs": [],
   "source": [
    "# Recurrent layer (RNN)\n",
    "model.add(tf.keras.layers.SimpleRNN(128, dropout=0.2, return_sequences=True))"
   ]
  },
  {
   "cell_type": "code",
   "execution_count": null,
   "metadata": {},
   "outputs": [],
   "source": [
    "# normalization hidden layer to speed up convergence / training\n",
    "model.add(tf.keras.layers.BatchNormalization())\n",
    "# stacking another RNN layer to capture deeper sequential data and handle vanishing gradient problem\n",
    "model.add(tf.keras.layers.SimpleRNN(128, dropout=0.2, recurrent_dropout=0.2))\n",
    "# regularization layer to prevent overfitting\n",
    "model.add(tf.keras.layers.Dropout(0.5))"
   ]
  },
  {
   "cell_type": "markdown",
   "metadata": {},
   "source": [
    "### Output layer"
   ]
  },
  {
   "cell_type": "code",
   "execution_count": 27,
   "metadata": {},
   "outputs": [],
   "source": [
    "# Output layer (binary classification)\n",
    "model.add(tf.keras.layers.Dense(1, activation='sigmoid'))"
   ]
  },
  {
   "cell_type": "code",
   "execution_count": 38,
   "metadata": {},
   "outputs": [
    {
     "name": "stdout",
     "output_type": "stream",
     "text": [
      "Model: \"sequential_2\"\n",
      "_________________________________________________________________\n",
      " Layer (type)                Output Shape              Param #   \n",
      "=================================================================\n",
      " embedding_2 (Embedding)     (None, 500, 128)          1280000   \n",
      "                                                                 \n",
      " simple_rnn_9 (SimpleRNN)    (None, 500, 128)          32896     \n",
      "                                                                 \n",
      " batch_normalization_2 (Batc  (None, 500, 128)         512       \n",
      " hNormalization)                                                 \n",
      "                                                                 \n",
      " simple_rnn_10 (SimpleRNN)   (None, 128)               32896     \n",
      "                                                                 \n",
      " dropout (Dropout)           (None, 128)               0         \n",
      "                                                                 \n",
      " dense (Dense)               (None, 1)                 129       \n",
      "                                                                 \n",
      "=================================================================\n",
      "Total params: 1,346,433\n",
      "Trainable params: 1,346,177\n",
      "Non-trainable params: 256\n",
      "_________________________________________________________________\n",
      "None\n"
     ]
    }
   ],
   "source": [
    "print(model.summary())"
   ]
  },
  {
   "cell_type": "markdown",
   "metadata": {},
   "source": [
    "## Training the RNN"
   ]
  },
  {
   "cell_type": "markdown",
   "metadata": {},
   "source": [
    "### Compiling the RNN"
   ]
  },
  {
   "cell_type": "code",
   "execution_count": 28,
   "metadata": {},
   "outputs": [],
   "source": [
    "# Compile the model\n",
    "model.compile(optimizer=Adam(learning_rate=0.0005), loss='binary_crossentropy', metrics=['accuracy'])"
   ]
  },
  {
   "cell_type": "markdown",
   "metadata": {},
   "source": [
    "### Training the RNN on the Training set and evaluating it on the Test set"
   ]
  },
  {
   "cell_type": "code",
   "execution_count": 29,
   "metadata": {},
   "outputs": [
    {
     "name": "stdout",
     "output_type": "stream",
     "text": [
      "Epoch 1/10\n",
      "782/782 [==============================] - 448s 570ms/step - loss: 0.7774 - accuracy: 0.5037 - val_loss: 0.6809 - val_accuracy: 0.5918\n",
      "Epoch 2/10\n",
      "782/782 [==============================] - 780s 998ms/step - loss: 0.6358 - accuracy: 0.6347 - val_loss: 0.8046 - val_accuracy: 0.5314\n",
      "Epoch 3/10\n",
      "782/782 [==============================] - 640s 818ms/step - loss: 0.5936 - accuracy: 0.6794 - val_loss: 0.7266 - val_accuracy: 0.6011\n",
      "Epoch 4/10\n",
      "782/782 [==============================] - 770s 984ms/step - loss: 0.6331 - accuracy: 0.6081 - val_loss: 0.6696 - val_accuracy: 0.6046\n",
      "Epoch 5/10\n",
      "782/782 [==============================] - 923s 1s/step - loss: 0.6449 - accuracy: 0.6183 - val_loss: 0.5511 - val_accuracy: 0.7176\n",
      "Epoch 6/10\n",
      "782/782 [==============================] - 947s 1s/step - loss: 0.5011 - accuracy: 0.7638 - val_loss: 0.4877 - val_accuracy: 0.7729\n",
      "Epoch 7/10\n",
      "782/782 [==============================] - 890s 1s/step - loss: 0.4721 - accuracy: 0.7833 - val_loss: 0.5634 - val_accuracy: 0.7028\n",
      "Epoch 8/10\n",
      "782/782 [==============================] - 1011s 1s/step - loss: 0.4948 - accuracy: 0.7599 - val_loss: 0.5109 - val_accuracy: 0.7618\n",
      "Epoch 9/10\n",
      "782/782 [==============================] - 795s 1s/step - loss: 0.4158 - accuracy: 0.8202 - val_loss: 0.4421 - val_accuracy: 0.8014\n",
      "Epoch 10/10\n",
      "782/782 [==============================] - 833s 1s/step - loss: 0.4291 - accuracy: 0.8005 - val_loss: 0.6070 - val_accuracy: 0.6730\n"
     ]
    }
   ],
   "source": [
    "history = model.fit(x_train, y_train, epochs=10, batch_size=32, validation_data=(x_test, y_test))\n"
   ]
  },
  {
   "cell_type": "markdown",
   "metadata": {},
   "source": [
    "## Visualize the model performance"
   ]
  },
  {
   "cell_type": "code",
   "execution_count": 30,
   "metadata": {},
   "outputs": [
    {
     "data": {
      "image/png": "[encoded data removed]",
      "text/plain": [
       "<Figure size 432x288 with 1 Axes>"
      ]
     },
     "metadata": {
      "needs_background": "light"
     },
     "output_type": "display_data"
    }
   ],
   "source": [
    "# Plot training & validation accuracy values\n",
    "plt.plot(history.history['accuracy'])\n",
    "plt.plot(history.history['val_accuracy'])\n",
    "plt.title('Model accuracy')\n",
    "plt.xlabel('Epoch')\n",
    "plt.ylabel('Accuracy')\n",
    "plt.legend(['Train', 'Validation'], loc='upper left')\n",
    "plt.show()\n",
    "\n"
   ]
  },
  {
   "cell_type": "code",
   "execution_count": 31,
   "metadata": {},
   "outputs": [
    {
     "data": {
      "image/png": "[encoded data removed]",
      "text/plain": [
       "<Figure size 432x288 with 1 Axes>"
      ]
     },
     "metadata": {
      "needs_background": "light"
     },
     "output_type": "display_data"
    }
   ],
   "source": [
    "# Plot training & validation loss values\n",
    "plt.plot(history.history['loss'])\n",
    "plt.plot(history.history['val_loss'])\n",
    "plt.title('Model loss')\n",
    "plt.xlabel('Epoch')\n",
    "plt.ylabel('Loss')\n",
    "plt.legend(['Train', 'Validation'], loc='upper left')\n",
    "plt.show()\n"
   ]
  },
  {
   "cell_type": "markdown",
   "metadata": {},
   "source": [
    "## Making a single prediction"
   ]
  },
  {
   "cell_type": "code",
   "execution_count": 34,
   "metadata": {},
   "outputs": [
    {
     "name": "stdout",
     "output_type": "stream",
     "text": [
      "Original words: ['fantastic', 'movie', ',', 'one', 'of', 'the', 'best', 'of', 'the', 'year!']\n",
      "Tokenized sequence: [777, 20, 2, 31, 7, 4, 118, 7, 4, 2]\n",
      "Padded sequence shape: (1, 500)\n",
      "1/1 [==============================] - 0s 84ms/step\n",
      "Positive sentiment\n"
     ]
    }
   ],
   "source": [
    "# Test sentence\n",
    "test_text = \"fantastic movie , one of the best of the year!\"\n",
    "\n",
    "# Load word index and adjust with `index_from=3`\n",
    "word_to_id = tf.keras.datasets.imdb.get_word_index()\n",
    "word_to_id = {word: (index + 3) for word, index in word_to_id.items()}  # Shift index by 3\n",
    "\n",
    "# Add reserved tokens\n",
    "word_to_id[\"<PAD>\"] = 0\n",
    "word_to_id[\"<START>\"] = 1\n",
    "word_to_id[\"<OOV>\"] = 2\n",
    "\n",
    "# Tokenize input sentence\n",
    "words = test_text.lower().split()\n",
    "sequence = [word_to_id.get(word, 2) for word in words]  # Default to OOV token if not found\n",
    "batch_sequence = [sequence]  # Add batch dimension\n",
    "\n",
    "# Pad the sequence\n",
    "padded_sequence = tf.keras.preprocessing.sequence.pad_sequences(batch_sequence, maxlen=max_len)\n",
    "\n",
    "print(\"Original words:\", words)\n",
    "print(\"Tokenized sequence:\", sequence)\n",
    "print(\"Padded sequence shape:\", padded_sequence.shape)\n",
    "\n",
    "# Predict sentiment\n",
    "prediction = model.predict(padded_sequence)\n",
    "\n",
    "# Interpret result\n",
    "if prediction[0] > 0.5:\n",
    "    print(\"Positive sentiment\")\n",
    "else:\n",
    "    print(\"Negative sentiment\")\n",
    "\n"
   ]
  },
  {
   "cell_type": "code",
   "execution_count": 36,
   "metadata": {},
   "outputs": [
    {
     "name": "stdout",
     "output_type": "stream",
     "text": [
      "Original words: ['worst', 'movie', ',', \"didn't\", 'like', 'it', 'at', 'all!']\n",
      "Tokenized sequence: [249, 20, 2, 161, 40, 12, 33, 2]\n",
      "Padded sequence shape: (1, 500)\n",
      "1/1 [==============================] - 0s 73ms/step\n",
      "Negative sentiment\n"
     ]
    }
   ],
   "source": [
    "# Test sentence\n",
    "test_text = \"worst movie , didn't like it at all!\"\n",
    "\n",
    "# Load word index and adjust with `index_from=3`\n",
    "word_to_id = tf.keras.datasets.imdb.get_word_index()\n",
    "word_to_id = {word: (index + 3) for word, index in word_to_id.items()}  # Shift index by 3\n",
    "\n",
    "# Add reserved tokens\n",
    "word_to_id[\"<PAD>\"] = 0\n",
    "word_to_id[\"<START>\"] = 1\n",
    "word_to_id[\"<OOV>\"] = 2\n",
    "\n",
    "# Tokenize input sentence\n",
    "words = test_text.lower().split()\n",
    "sequence = [word_to_id.get(word, 2) for word in words]  # Default to OOV token if not found\n",
    "batch_sequence = [sequence]  # Add batch dimension\n",
    "\n",
    "# Pad the sequence\n",
    "padded_sequence = tf.keras.preprocessing.sequence.pad_sequences(batch_sequence, maxlen=max_len)\n",
    "\n",
    "print(\"Original words:\", words)\n",
    "print(\"Tokenized sequence:\", sequence)\n",
    "print(\"Padded sequence shape:\", padded_sequence.shape)\n",
    "\n",
    "# Predict sentiment\n",
    "prediction = model.predict(padded_sequence)\n",
    "\n",
    "# Interpret result\n",
    "if prediction[0] > 0.5:\n",
    "    print(\"Positive sentiment\")\n",
    "else:\n",
    "    print(\"Negative sentiment\")\n"
   ]
  }
 ],
 "metadata": {
  "kernelspec": {
   "display_name": "Python 3",
   "language": "python",
   "name": "python3"
  },
  "language_info": {
   "codemirror_mode": {
    "name": "ipython",
    "version": 3
   },
   "file_extension": ".py",
   "mimetype": "text/x-python",
   "name": "python",
   "nbconvert_exporter": "python",
   "pygments_lexer": "ipython3",
   "version": "3.8.7rc1"
  }
 },
 "nbformat": 4,
 "nbformat_minor": 2
}
