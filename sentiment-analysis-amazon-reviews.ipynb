{
 "cells": [
  {
   "cell_type": "markdown",
   "metadata": {},
   "source": [
    "# RNN - custom dataset (amazon reviews), tokenizer & pretrained word2vec embeddings\n"
   ]
  },
  {
   "cell_type": "markdown",
   "metadata": {},
   "source": [
    "### Importing the libraries"
   ]
  },
  {
   "cell_type": "code",
   "execution_count": 1,
   "metadata": {},
   "outputs": [],
   "source": [
    "import tensorflow as tf\n",
    "from keras.optimizers import Adam\n",
    "from sklearn.model_selection import train_test_split\n",
    "import matplotlib.pyplot as plt\n",
    "import pandas as pd\n",
    "import json\n",
    "import gensim.downloader as api \n",
    "import numpy as np"
   ]
  },
  {
   "cell_type": "markdown",
   "metadata": {},
   "source": [
    "## Data Preprocessing"
   ]
  },
  {
   "cell_type": "markdown",
   "metadata": {},
   "source": [
    "### Loading the dataset"
   ]
  },
  {
   "cell_type": "code",
   "execution_count": 2,
   "metadata": {},
   "outputs": [
    {
     "name": "stdout",
     "output_type": "stream",
     "text": [
      "   rating                                      title  \\\n",
      "0     5.0  Such a lovely scent but not overpowering.   \n",
      "1     4.0     Works great but smells a little weird.   \n",
      "2     5.0                                       Yes!   \n",
      "3     1.0                          Synthetic feeling   \n",
      "4     5.0                                         A+   \n",
      "\n",
      "                                                text images        asin  \\\n",
      "0  This spray is really nice. It smells really go...     []  B00YQ6X8EO   \n",
      "1  This product does what I need it to do, I just...     []  B081TJ8YS3   \n",
      "2                          Smells good, feels great!     []  B07PNNCSP9   \n",
      "3                                     Felt synthetic     []  B09JS339BZ   \n",
      "4                                            Love it     []  B08BZ63GMJ   \n",
      "\n",
      "  parent_asin                       user_id      timestamp  helpful_vote  \\\n",
      "0  B00YQ6X8EO  AGKHLEW2SOWHNMFQIJGBECAF7INQ  1588687728923             0   \n",
      "1  B081TJ8YS3  AGKHLEW2SOWHNMFQIJGBECAF7INQ  1588615855070             1   \n",
      "2  B097R46CSY  AE74DYR3QUGVPZJ3P7RFWBGIX7XQ  1589665266052             2   \n",
      "3  B09JS339BZ  AFQLNQNQYFWQZPJQZS6V3NZU4QBQ  1643393630220             0   \n",
      "4  B08BZ63GMJ  AFQLNQNQYFWQZPJQZS6V3NZU4QBQ  1609322563534             0   \n",
      "\n",
      "   verified_purchase  \n",
      "0               True  \n",
      "1               True  \n",
      "2               True  \n",
      "3               True  \n",
      "4               True  \n"
     ]
    }
   ],
   "source": [
    "# Load the dataset\n",
    "input_file_path = \"input/All_Beauty.jsonl.gz\"\n",
    "data = []\n",
    "\n",
    "with open(input_file_path, 'r') as fp:\n",
    "    for line in fp:\n",
    "        data.append(json.loads(line.strip()))\n",
    "        \n",
    "# Convert to a DataFrame\n",
    "df = pd.DataFrame(data)\n",
    "print(df.head())  # Display first few rows"
   ]
  },
  {
   "cell_type": "markdown",
   "metadata": {},
   "source": [
    "### Preprocessing the data"
   ]
  },
  {
   "cell_type": "code",
   "execution_count": 3,
   "metadata": {},
   "outputs": [
    {
     "name": "stdout",
     "output_type": "stream",
     "text": [
      "1.0    500107\n",
      "0.0    145114\n",
      "Name: sentiment, dtype: int64\n"
     ]
    }
   ],
   "source": [
    "# Convert ratings to binary sentiment\n",
    "df[\"sentiment\"] = df[\"rating\"].apply(lambda x: 1 if x >= 4 else (0 if x <= 2 else None))\n",
    "\n",
    "# Drop neutral reviews\n",
    "df = df.dropna(subset=[\"sentiment\"])\n",
    "df = df[[\"text\", \"sentiment\"]]  # Keep relevant columns\n",
    "\n",
    "# Check class distribution\n",
    "print(df[\"sentiment\"].value_counts())"
   ]
  },
  {
   "cell_type": "markdown",
   "metadata": {},
   "source": [
    "### Preprocessing the review text"
   ]
  },
  {
   "cell_type": "code",
   "execution_count": 4,
   "metadata": {},
   "outputs": [],
   "source": [
    "# Hyperparameters\n",
    "max_features = 10000  # Max number of words\n",
    "max_len = 300  # Max sequence length\n",
    "\n",
    "df.rename(columns={'text': 'reviewText'}, inplace=True)\n",
    "# Tokenizer\n",
    "tokenizer = tf.keras.preprocessing.text.Tokenizer(num_words=max_features, oov_token=\"<OOV>\")\n",
    "# creates word_index mapping words to unique integers based on word frequency\n",
    "tokenizer.fit_on_texts(df[\"reviewText\"])\n",
    "\n",
    "# Convert text to sequences\n",
    "sequences = tokenizer.texts_to_sequences(df[\"reviewText\"])\n",
    "\n",
    "# Pad sequences to ensure consistent input size\n",
    "x = tf.keras.preprocessing.sequence.pad_sequences(sequences, maxlen=max_len)\n",
    "y = df[\"sentiment\"].values\n"
   ]
  },
  {
   "cell_type": "markdown",
   "metadata": {},
   "source": [
    "### Splitting the data into training and test sets"
   ]
  },
  {
   "cell_type": "code",
   "execution_count": 5,
   "metadata": {},
   "outputs": [],
   "source": [
    "\n",
    "# Train-test split\n",
    "x_train, x_test, y_train, y_test = train_test_split(x, y, test_size=0.2, random_state=42)"
   ]
  },
  {
   "cell_type": "markdown",
   "metadata": {},
   "source": [
    "### Loading Pre-trained Word2Vec (Google News)"
   ]
  },
  {
   "cell_type": "code",
   "execution_count": 6,
   "metadata": {},
   "outputs": [
    {
     "name": "stdout",
     "output_type": "stream",
     "text": [
      "Word index sample: [('<OOV>', 1), ('the', 2), ('i', 3), ('and', 4), ('it', 5), ('a', 6), ('to', 7), ('this', 8), ('my', 9), ('is', 10)]\n",
      "Embedding matrix shape: (10000, 300)\n"
     ]
    }
   ],
   "source": [
    "# Load pre-trained Word2Vec model (Google News, 300 dimensions)\n",
    "word2vec = api.load(\"word2vec-google-news-300\")\n",
    "\n",
    "# Get word index from the tokenizer\n",
    "word_index = tokenizer.word_index\n",
    "print(\"Word index sample:\", list(word_index.items())[:10])\n",
    "\n",
    "# Create embedding matrix\n",
    "embedding_dim = 300  # Google News Word2Vec uses 300-dimensional vectors\n",
    "embedding_matrix = np.zeros((max_features, embedding_dim))\n",
    "\n",
    "# Add random vectors for OOV token (index 1)\n",
    "embedding_matrix[1] = np.random.uniform(-0.25, 0.25, embedding_dim)  # Random embedding for OOV token\n",
    "\n",
    "# Assign word embeddings starting from index 2\n",
    "for word, i in word_index.items():\n",
    "    if i < max_features and i != 1:  # Skip the OOV token at index 1\n",
    "        if word in word2vec:\n",
    "            embedding_matrix[i] = word2vec[word]\n",
    "        else:\n",
    "            embedding_matrix[i] = np.random.uniform(-0.25, 0.25, embedding_dim)  # Random vector if no embedding\n",
    "            \n",
    "print(\"Embedding matrix shape:\", embedding_matrix.shape)"
   ]
  },
  {
   "cell_type": "markdown",
   "metadata": {},
   "source": [
    "## Building the RNN"
   ]
  },
  {
   "cell_type": "markdown",
   "metadata": {},
   "source": [
    "### Initialising the RNN"
   ]
  },
  {
   "cell_type": "code",
   "execution_count": 7,
   "metadata": {},
   "outputs": [],
   "source": [
    "model = tf.keras.models.Sequential()"
   ]
  },
  {
   "cell_type": "markdown",
   "metadata": {},
   "source": [
    "### Embedding layer"
   ]
  },
  {
   "cell_type": "code",
   "execution_count": 8,
   "metadata": {},
   "outputs": [],
   "source": [
    "# Embedding layer (non-trainable) to represent words as vectors that uses embedding_matrix\n",
    "model.add(tf.keras.layers.Embedding(input_dim=max_features, output_dim=embedding_dim, weights=[embedding_matrix], input_length=max_len, trainable=False))"
   ]
  },
  {
   "cell_type": "markdown",
   "metadata": {},
   "source": [
    "### Hidden layers"
   ]
  },
  {
   "cell_type": "code",
   "execution_count": 9,
   "metadata": {},
   "outputs": [],
   "source": [
    "# Recurrent layer (RNN)\n",
    "model.add(tf.keras.layers.SimpleRNN(128, dropout=0.2, return_sequences=True))\n",
    "# normalization hidden layer to speed up convergence / training\n",
    "model.add(tf.keras.layers.BatchNormalization())\n",
    "# stacking another RNN layer to capture deeper sequential data\n",
    "model.add(tf.keras.layers.SimpleRNN(128, dropout=0.2, recurrent_dropout=0.2))\n",
    "# regularization layer to prevent overfitting\n",
    "model.add(tf.keras.layers.Dropout(0.5))"
   ]
  },
  {
   "cell_type": "markdown",
   "metadata": {},
   "source": [
    "### Output layer"
   ]
  },
  {
   "cell_type": "code",
   "execution_count": 10,
   "metadata": {},
   "outputs": [],
   "source": [
    "# Output layer (binary classification)\n",
    "model.add(tf.keras.layers.Dense(1, activation='sigmoid'))"
   ]
  },
  {
   "cell_type": "markdown",
   "metadata": {},
   "source": [
    "## Training the RNN"
   ]
  },
  {
   "cell_type": "markdown",
   "metadata": {},
   "source": [
    "### Compiling the RNN"
   ]
  },
  {
   "cell_type": "code",
   "execution_count": 11,
   "metadata": {},
   "outputs": [],
   "source": [
    "# Compile the model\n",
    "model.compile(optimizer=Adam(learning_rate=0.0005), loss='binary_crossentropy', metrics=['accuracy'])"
   ]
  },
  {
   "cell_type": "markdown",
   "metadata": {},
   "source": [
    "### Training the RNN on the Training set and evaluating it on the Test set"
   ]
  },
  {
   "cell_type": "code",
   "execution_count": 12,
   "metadata": {},
   "outputs": [
    {
     "name": "stdout",
     "output_type": "stream",
     "text": [
      "Epoch 1/6\n",
      "16131/16131 [==============================] - 30361s 2s/step - loss: 0.3629 - accuracy: 0.8391 - val_loss: 0.3022 - val_accuracy: 0.8649\n",
      "Epoch 2/6\n",
      "16131/16131 [==============================] - 7280s 451ms/step - loss: 0.3517 - accuracy: 0.8478 - val_loss: 0.6899 - val_accuracy: 0.6477\n",
      "Epoch 3/6\n",
      "16131/16131 [==============================] - 15621s 968ms/step - loss: 0.3644 - accuracy: 0.8422 - val_loss: 0.2884 - val_accuracy: 0.8864\n",
      "Epoch 4/6\n",
      "16131/16131 [==============================] - 6677s 414ms/step - loss: 0.3781 - accuracy: 0.8320 - val_loss: 0.3137 - val_accuracy: 0.8655\n",
      "Epoch 5/6\n",
      "16131/16131 [==============================] - 7105s 440ms/step - loss: 0.3443 - accuracy: 0.8520 - val_loss: 0.4003 - val_accuracy: 0.8259\n",
      "Epoch 6/6\n",
      "16131/16131 [==============================] - 7432s 461ms/step - loss: 0.3587 - accuracy: 0.8398 - val_loss: 0.2892 - val_accuracy: 0.8768\n"
     ]
    }
   ],
   "source": [
    "history = model.fit(x_train, y_train, epochs=6, batch_size=32, validation_data=(x_test, y_test))\n"
   ]
  },
  {
   "cell_type": "markdown",
   "metadata": {},
   "source": [
    "## Visualize the model performance"
   ]
  },
  {
   "cell_type": "code",
   "execution_count": 17,
   "metadata": {},
   "outputs": [
    {
     "data": {
      "image/png": "[encoded data removed]",
      "text/plain": [
       "<Figure size 432x288 with 1 Axes>"
      ]
     },
     "metadata": {
      "needs_background": "light"
     },
     "output_type": "display_data"
    }
   ],
   "source": [
    "# Plot training & validation accuracy values\n",
    "plt.plot(history.history['accuracy'])\n",
    "plt.plot(history.history['val_accuracy'])\n",
    "plt.title('Model accuracy')\n",
    "plt.xlabel('Epoch')\n",
    "plt.ylabel('Accuracy')\n",
    "plt.legend(['Train', 'Validation'], loc='upper left')\n",
    "plt.show()\n",
    "\n"
   ]
  },
  {
   "cell_type": "code",
   "execution_count": 18,
   "metadata": {},
   "outputs": [
    {
     "data": {
      "image/png": "[encoded data removed]",
      "text/plain": [
       "<Figure size 432x288 with 1 Axes>"
      ]
     },
     "metadata": {
      "needs_background": "light"
     },
     "output_type": "display_data"
    }
   ],
   "source": [
    "# Plot training & validation loss values\n",
    "plt.plot(history.history['loss'])\n",
    "plt.plot(history.history['val_loss'])\n",
    "plt.title('Model loss')\n",
    "plt.xlabel('Epoch')\n",
    "plt.ylabel('Loss')\n",
    "plt.legend(['Train', 'Validation'], loc='upper left')\n",
    "plt.show()\n"
   ]
  },
  {
   "cell_type": "markdown",
   "metadata": {},
   "source": [
    "## Making a single prediction"
   ]
  },
  {
   "cell_type": "code",
   "execution_count": 19,
   "metadata": {},
   "outputs": [
    {
     "name": "stdout",
     "output_type": "stream",
     "text": [
      "1/1 [==============================] - 0s 355ms/step\n",
      "Positive sentiment\n",
      "Tokenized sequence: [[636, 26, 193, 5]]\n",
      "Padded sequence shape: (1, 300)\n"
     ]
    }
   ],
   "source": [
    "# Test sentence\n",
    "test_review_text = \"fantastic product , loved it!\"\n",
    "\n",
    "sequence = tokenizer.texts_to_sequences([test_review_text])\n",
    "\n",
    "# Pad the sequence\n",
    "padded_sequence = tf.keras.preprocessing.sequence.pad_sequences(sequence, maxlen=max_len)\n",
    "\n",
    "# Predict sentiment\n",
    "prediction = model.predict(padded_sequence)\n",
    "\n",
    "# Interpret result\n",
    "if prediction[0] > 0.5:\n",
    "    print(\"Positive sentiment\")\n",
    "else:\n",
    "    print(\"Negative sentiment\")\n",
    "\n",
    "print(\"Tokenized sequence:\", sequence)\n",
    "print(\"Padded sequence shape:\", padded_sequence.shape)"
   ]
  },
  {
   "cell_type": "code",
   "execution_count": 20,
   "metadata": {},
   "outputs": [
    {
     "name": "stdout",
     "output_type": "stream",
     "text": [
      "1/1 [==============================] - 0s 66ms/step\n",
      "Negative sentiment\n",
      "Tokenized sequence: [[805, 278, 158, 32, 5, 43, 36]]\n",
      "Padded sequence shape: (1, 300)\n"
     ]
    }
   ],
   "source": [
    "# Test sentence\n",
    "test_review_text = \"worst shampoo , didn't like it at all!\"\n",
    "\n",
    "sequence = tokenizer.texts_to_sequences([test_review_text])\n",
    "\n",
    "# Pad the sequence\n",
    "padded_sequence = tf.keras.preprocessing.sequence.pad_sequences(sequence, maxlen=max_len)\n",
    "\n",
    "# Predict sentiment\n",
    "prediction = model.predict(padded_sequence)\n",
    "\n",
    "# Interpret result\n",
    "if prediction[0] > 0.5:\n",
    "    print(\"Positive sentiment\")\n",
    "else:\n",
    "    print(\"Negative sentiment\")\n",
    "\n",
    "print(\"Tokenized sequence:\", sequence)\n",
    "print(\"Padded sequence shape:\", padded_sequence.shape)"
   ]
  }
 ],
 "metadata": {
  "kernelspec": {
   "display_name": "Python 3",
   "language": "python",
   "name": "python3"
  },
  "language_info": {
   "codemirror_mode": {
    "name": "ipython",
    "version": 3
   },
   "file_extension": ".py",
   "mimetype": "text/x-python",
   "name": "python",
   "nbconvert_exporter": "python",
   "pygments_lexer": "ipython3",
   "version": "3.8.7rc1"
  }
 },
 "nbformat": 4,
 "nbformat_minor": 2
}
